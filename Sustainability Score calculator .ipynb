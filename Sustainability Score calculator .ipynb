{
 "cells": [
  {
   "cell_type": "markdown",
   "metadata": {},
   "source": [
    "# Press Control/Command & Shift simultaneously to begin\n",
    "\n",
    "### Please enter the transport mode exactly how you see it in the list"
   ]
  },
  {
   "cell_type": "code",
   "execution_count": 5,
   "metadata": {
    "slideshow": {
     "slide_type": "-"
    }
   },
   "outputs": [
    {
     "data": {
      "text/html": [
       "<style id=hide>div.input{display:none;}</style><button type=\"button\"onclick=\"var myStyle = document.getElementById('hide').sheet;myStyle.insertRule('div.input{display:inherit !important;}', 0);\">Show inputs</button>"
      ],
      "text/plain": [
       "<IPython.core.display.HTML object>"
      ]
     },
     "metadata": {},
     "output_type": "display_data"
    },
    {
     "name": "stdout",
     "output_type": "stream",
     "text": [
      "Car 1 pax\n",
      "Carpool\n",
      "Bus (regular)\n",
      "Bus (electric)\n",
      "Train\n",
      "Walking\n",
      "Cycling\n",
      "Electric car\n",
      "From the list of transport modes, please enter the mode which desribes how you travelled to University today:  Car 1 pax\n",
      "In minutes, approximately how long did your trip to University take today? 20\n",
      "In kilometres, approximately how far did you have to travel today to get to University? 10\n",
      "Your Sustainability Score is: 20.0 out of 100\n"
     ]
    }
   ],
   "source": [
    "# Run me to hide code cells\n",
    "\n",
    "from IPython.core.display import display, HTML\n",
    "display(HTML(r\"\"\"<style id=hide>div.input{display:none;}</style><button type=\"button\"onclick=\"var myStyle = document.getElementById('hide').sheet;myStyle.insertRule('div.input{display:inherit !important;}', 0);\">Show inputs</button>\"\"\"))\n",
    "\n",
    "#print list of modes\n",
    "print(\"Car 1 pax\")\n",
    "print(\"Carpool\")\n",
    "print(\"Bus (regular)\")\n",
    "print(\"Bus (electric)\")\n",
    "print(\"Train\")\n",
    "print(\"Walking\")\n",
    "print(\"Cycling\")\n",
    "print(\"Electric car\")\n",
    "\n",
    "#ask user for inputs \n",
    "mode = input(\"From the list of transport modes, please enter the mode which desribes how you travelled to University today:  \")\n",
    "time = input(\"In minutes, approximately how long did your trip to University take today? \")\n",
    "distance = input(\"In kilometres, approximately how far did you have to travel today to get to University? \")\n",
    "\n",
    "#assign values to each transport mode\n",
    "if mode == \"Carpool\":\n",
    "    mode_value = 3\n",
    "\n",
    "if mode == \"Car 1 pax\":\n",
    "    mode_value = 1\n",
    "\n",
    "if mode == \"Bus (regular)\":\n",
    "    mode_value = 7\n",
    "    \n",
    "if mode == \"Bus (electric)\":\n",
    "    mode_value = 9\n",
    "    \n",
    "if mode == \"Train\":\n",
    "    mode_value = 8\n",
    "\n",
    "if mode == \"Walking\":\n",
    "    mode_value = 20\n",
    "\n",
    "if mode == \"Cycling\":\n",
    "    mode_value = 20\n",
    "\n",
    "if mode == \"Electric car\":\n",
    "    mode_value = 5\n",
    "    \n",
    "#initialise the reduction factor\n",
    "reduction = 1\n",
    "\n",
    "#define the formula\n",
    "if int(distance) <= 3:\n",
    "    if mode_value < 7:\n",
    "        reduction = 0.5\n",
    "\n",
    "if int(distance) > 10:\n",
    "    if mode_value == 20:\n",
    "        reduction = 2\n",
    "    if 5 < mode_value < 20:\n",
    "        reduction = 0.8\n",
    "\n",
    "if mode_value == 20:\n",
    "    if int(time) >= 30:\n",
    "        if 5 <= int(distance) <= 10:\n",
    "            reduction = 3\n",
    "\n",
    "SCORE = mode_value * int(distance) * int(time) * reduction\n",
    "\n",
    "if mode_value < 5:\n",
    "    if int(distance) >= 10:\n",
    "        if SCORE/100 < 20:\n",
    "            SCORE = 20*100\n",
    "\n",
    "#print the score\n",
    "print(\"Your Sustainability Score is: \" + str(SCORE/100) + \" out of 100\")\n"
   ]
  },
  {
   "cell_type": "code",
   "execution_count": null,
   "metadata": {},
   "outputs": [],
   "source": []
  }
 ],
 "metadata": {
  "kernelspec": {
   "display_name": "Python 3",
   "language": "python",
   "name": "python3"
  },
  "language_info": {
   "codemirror_mode": {
    "name": "ipython",
    "version": 3
   },
   "file_extension": ".py",
   "mimetype": "text/x-python",
   "name": "python",
   "nbconvert_exporter": "python",
   "pygments_lexer": "ipython3",
   "version": "3.8.5"
  }
 },
 "nbformat": 4,
 "nbformat_minor": 4
}
